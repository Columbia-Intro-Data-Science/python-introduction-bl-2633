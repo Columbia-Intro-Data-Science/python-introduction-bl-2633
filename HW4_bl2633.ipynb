{
 "cells": [
  {
   "cell_type": "markdown",
   "metadata": {},
   "source": [
    "# Query \\#1"
   ]
  },
  {
   "cell_type": "markdown",
   "metadata": {},
   "source": [
    "### Give a count of all videos currently out."
   ]
  },
  {
   "cell_type": "markdown",
   "metadata": {},
   "source": [
    "SQL:"
   ]
  },
  {
   "cell_type": "code",
   "execution_count": null,
   "metadata": {
    "collapsed": true
   },
   "outputs": [],
   "source": [
    "SELECT count(*)\n",
    "FROM rental\n",
    "WHERE Return_date IS NULL"
   ]
  },
  {
   "cell_type": "markdown",
   "metadata": {},
   "source": [
    "result:"
   ]
  },
  {
   "cell_type": "markdown",
   "metadata": {},
   "source": [
    "<img src=\"./query1_result.png\">"
   ]
  },
  {
   "cell_type": "markdown",
   "metadata": {},
   "source": [
    "# Query \\#2 "
   ]
  },
  {
   "cell_type": "markdown",
   "metadata": {},
   "source": [
    "### Make a list of all customer names who have videos out and how much they owe."
   ]
  },
  {
   "cell_type": "markdown",
   "metadata": {},
   "source": [
    "SQL:"
   ]
  },
  {
   "cell_type": "code",
   "execution_count": null,
   "metadata": {
    "collapsed": true
   },
   "outputs": [],
   "source": [
    "SELECT B.name,\n",
    "       sum(B.rental_rate)\n",
    "FROM\n",
    "  (SELECT concat(c.first_name,' ',c.last_name) AS name,\n",
    "          rental_rate\n",
    "   FROM\n",
    "     (SELECT *\n",
    "      FROM rental\n",
    "      WHERE return_date IS NULL) AS A\n",
    "   JOIN inventory i ON i.inventory_id = A.inventory_id\n",
    "   JOIN customer c ON A.customer_id = c.customer_id\n",
    "   JOIN film f ON f.film_id = i.film_id) AS B\n",
    "GROUP BY B.name\n",
    "ORDER BY SUM DESC"
   ]
  },
  {
   "cell_type": "markdown",
   "metadata": {},
   "source": [
    "sample result:"
   ]
  },
  {
   "cell_type": "markdown",
   "metadata": {},
   "source": [
    "<img src=\"./query2_result.png\">"
   ]
  },
  {
   "cell_type": "markdown",
   "metadata": {},
   "source": [
    "# Query \\#3"
   ]
  },
  {
   "cell_type": "markdown",
   "metadata": {},
   "source": [
    "### Give the most popular actors by store location."
   ]
  },
  {
   "cell_type": "markdown",
   "metadata": {},
   "source": [
    "SQL for store 1:"
   ]
  },
  {
   "cell_type": "code",
   "execution_count": null,
   "metadata": {
    "collapsed": true
   },
   "outputs": [],
   "source": [
    "SELECT T.name,\n",
    "       count(T.store_id)\n",
    "FROM\n",
    "  (SELECT concat(a.first_name,' ', a.last_name) AS name,\n",
    "          store.store_id\n",
    "   FROM rental r\n",
    "   JOIN staff_list s ON r.staff_id = s.id\n",
    "   JOIN store ON store.store_id = s.sid\n",
    "   JOIN inventory i ON i.inventory_id = r.inventory_id\n",
    "   JOIN film f ON f.film_id = i.film_id\n",
    "   JOIN film_actor fa ON fa.film_id = f.film_id\n",
    "   JOIN actor a ON a.actor_id = fa.actor_id) AS T\n",
    "WHERE T.store_id = 1\n",
    "GROUP BY Name\n",
    "ORDER BY COUNT DESC LIMIT 1"
   ]
  },
  {
   "cell_type": "markdown",
   "metadata": {},
   "source": [
    "Result:"
   ]
  },
  {
   "cell_type": "markdown",
   "metadata": {},
   "source": [
    "<img src=\"./query3_result1.png\">"
   ]
  },
  {
   "cell_type": "markdown",
   "metadata": {},
   "source": [
    "SQL for store 2:"
   ]
  },
  {
   "cell_type": "code",
   "execution_count": null,
   "metadata": {
    "collapsed": true
   },
   "outputs": [],
   "source": [
    "SELECT T.name,\n",
    "       count(T.store_id)\n",
    "FROM\n",
    "  (SELECT concat(a.first_name,' ', a.last_name) AS name,\n",
    "          store.store_id\n",
    "   FROM rental r\n",
    "   JOIN staff_list s ON r.staff_id = s.id\n",
    "   JOIN store ON store.store_id = s.sid\n",
    "   JOIN inventory i ON i.inventory_id = r.inventory_id\n",
    "   JOIN film f ON f.film_id = i.film_id\n",
    "   JOIN film_actor fa ON fa.film_id = f.film_id\n",
    "   JOIN actor a ON a.actor_id = fa.actor_id) AS T\n",
    "WHERE T.store_id = 2\n",
    "GROUP BY Name\n",
    "ORDER BY COUNT DESC LIMIT 1"
   ]
  },
  {
   "cell_type": "markdown",
   "metadata": {},
   "source": [
    "Result:"
   ]
  },
  {
   "cell_type": "markdown",
   "metadata": {},
   "source": [
    "<img src=\"./query3_result2.png\">"
   ]
  },
  {
   "cell_type": "markdown",
   "metadata": {},
   "source": [
    "# Query \\#5"
   ]
  },
  {
   "cell_type": "markdown",
   "metadata": {},
   "source": [
    "### What hour of the day to people rent the most ?"
   ]
  },
  {
   "cell_type": "markdown",
   "metadata": {},
   "source": [
    "SQL:"
   ]
  },
  {
   "cell_type": "code",
   "execution_count": null,
   "metadata": {
    "collapsed": true
   },
   "outputs": [],
   "source": [
    "SELECT T.hour,\n",
    "       count(*)\n",
    "FROM\n",
    "  (SELECT extract(hour\n",
    "                  FROM rental_date)AS hour\n",
    "   FROM rental) AS T\n",
    "GROUP BY T.hour\n",
    "ORDER BY COUNT DESC"
   ]
  },
  {
   "cell_type": "markdown",
   "metadata": {},
   "source": [
    "Result:"
   ]
  },
  {
   "cell_type": "markdown",
   "metadata": {},
   "source": [
    "<img src=\"./query5_result.png\">"
   ]
  },
  {
   "cell_type": "code",
   "execution_count": null,
   "metadata": {
    "collapsed": true
   },
   "outputs": [],
   "source": []
  }
 ],
 "metadata": {
  "kernelspec": {
   "display_name": "Python 3",
   "language": "python",
   "name": "python3"
  },
  "language_info": {
   "codemirror_mode": {
    "name": "ipython",
    "version": 3
   },
   "file_extension": ".py",
   "mimetype": "text/x-python",
   "name": "python",
   "nbconvert_exporter": "python",
   "pygments_lexer": "ipython3",
   "version": "3.6.0"
  }
 },
 "nbformat": 4,
 "nbformat_minor": 2
}
